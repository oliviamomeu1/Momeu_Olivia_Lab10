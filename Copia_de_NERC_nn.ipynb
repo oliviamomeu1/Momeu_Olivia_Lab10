{
  "cells": [
    {
      "cell_type": "markdown",
      "metadata": {
        "id": "view-in-github",
        "colab_type": "text"
      },
      "source": [
        "<a href=\"https://colab.research.google.com/github/oliviamomeu1/Momeu_Olivia_Lab10/blob/master/Copia_de_NERC_nn.ipynb\" target=\"_parent\"><img src=\"https://colab.research.google.com/assets/colab-badge.svg\" alt=\"Open In Colab\"/></a>"
      ]
    },
    {
      "cell_type": "markdown",
      "source": [
        "# Name Entity Recognition using Deep Learning\n",
        "\n",
        "* Upload the lab_resources and NERC_nn files to you Drive Account:\n",
        "  * Lab_resource: https://www.cs.upc.edu/~turmo/mud/lab/lab_resources.zip\n",
        "  * NERC_nn code: https://www.cs.upc.edu/~turmo/mud/lab/07-DDI-nn.zip\n",
        "* Before running the code, ensure that your Google Colab is set to use GPU:\n",
        "  * Edit → Notebook Settings\n",
        "* Mount your Drive disk unit:\n",
        "  * Left-side menu → Files → Mount drive (the icon that looks like a folder with the Drive logo).\n"
      ],
      "metadata": {
        "id": "TEZjmE1vglrx"
      }
    },
    {
      "cell_type": "code",
      "source": [
        "from google.colab import drive\n",
        "drive.mount('/content/drive')"
      ],
      "metadata": {
        "colab": {
          "base_uri": "https://localhost:8080/"
        },
        "id": "dYPOsA2AO-As",
        "outputId": "5b7004cc-1c9c-4e81-9291-f47e342ad81b"
      },
      "execution_count": 1,
      "outputs": [
        {
          "output_type": "stream",
          "name": "stdout",
          "text": [
            "Mounted at /content/drive\n"
          ]
        }
      ]
    },
    {
      "cell_type": "markdown",
      "source": [
        "Define the paths to the data and utils in your Drive unit:"
      ],
      "metadata": {
        "id": "BLzeoFyGgw9E"
      }
    },
    {
      "cell_type": "markdown",
      "source": [
        "##**RUBEN PATHS**"
      ],
      "metadata": {
        "id": "RD4GtG7_yyWD"
      }
    },
    {
      "cell_type": "code",
      "source": [
        "utilsdir='drive/MyDrive/MDS/Q2/MUD/06-NERC-nn'\n",
        "evaluatordir='drive/MyDrive/MDS/Q2/MUD/lab_resources/DDI/util'\n",
        "traindir='drive/MyDrive/MDS/Q2/MUD/lab_resources/DDI/data/train'\n",
        "validationdir='drive/MyDrive/MDS/Q2/MUD/lab_resources/DDI/data/devel'\n",
        "testdir='drive/MyDrive/MDS/Q2/MUD/lab_resources/DDI/data/test'\n",
        "modelname ='model'\n",
        "outfile ='out.txt'"
      ],
      "metadata": {
        "id": "HG-oHsOjfnDo"
      },
      "execution_count": 2,
      "outputs": []
    },
    {
      "cell_type": "markdown",
      "source": [
        "##**OLIVIA PATHS**"
      ],
      "metadata": {
        "id": "YmaeZm4Vy4Pw"
      }
    },
    {
      "cell_type": "code",
      "source": [
        "utilsdir='drive/MyDrive/MDS/SEM2/MUD/06-NERC-nn/06-NERC-nn'\n",
        "evaluatordir='drive/MyDrive/MDS/SEM2/MUD/06-NERC-nn/lab_resources/DDI/util'\n",
        "traindir='drive/MyDrive/MDS/SEM2/MUD/06-NERC-nn/lab_resources/DDI/data/train'\n",
        "validationdir='drive/MyDrive/MDS/SEM2/MUD/06-NERC-nn/lab_resources/DDI/data/devel'\n",
        "testdir='drive/MyDrive/MDS/SEM2/MUD/06-NERC-nn/lab_resources/DDI/data/test'\n",
        "modelname ='model'\n",
        "outfile ='out.txt'"
      ],
      "metadata": {
        "id": "eRjq7hVHy73g"
      },
      "execution_count": 7,
      "outputs": []
    },
    {
      "cell_type": "markdown",
      "source": [
        "##**ADRIA PATHS**"
      ],
      "metadata": {
        "id": "c25CjuuOy8V_"
      }
    },
    {
      "cell_type": "code",
      "source": [
        "utilsdir='drive/MyDrive/MUD/MUD_Project/06-NERC-nn'\n",
        "evaluatordir='drive/MyDrive/MUD/MUD_Project/lab_resources/DDI/util'\n",
        "traindir='drive/MyDrive/MUD/MUD_Project/lab_resources/DDI/data/train'\n",
        "validationdir='drive/MyDrive/MUD/MUD_Project/lab_resources/DDI/data/devel'\n",
        "testdir='drive/MyDrive/MUD/MUD_Project/lab_resources/DDI/data/test'\n",
        "modelname ='model'\n",
        "outfile ='out.txt'"
      ],
      "metadata": {
        "id": "Flx3xYD0y_1p"
      },
      "execution_count": 4,
      "outputs": []
    },
    {
      "cell_type": "code",
      "execution_count": 13,
      "metadata": {
        "colab": {
          "base_uri": "https://localhost:8080/"
        },
        "id": "bqFrxX6SB9cr",
        "outputId": "f683b485-97d2-495a-d7fd-53eec88e530b"
      },
      "outputs": [
        {
          "output_type": "stream",
          "name": "stdout",
          "text": [
            "Requirement already satisfied: tensorflow-addons in /usr/local/lib/python3.10/dist-packages (0.23.0)\n",
            "Requirement already satisfied: packaging in /usr/local/lib/python3.10/dist-packages (from tensorflow-addons) (24.0)\n",
            "Requirement already satisfied: typeguard<3.0.0,>=2.7 in /usr/local/lib/python3.10/dist-packages (from tensorflow-addons) (2.13.3)\n"
          ]
        },
        {
          "output_type": "stream",
          "name": "stderr",
          "text": [
            "[nltk_data] Downloading package averaged_perceptron_tagger to\n",
            "[nltk_data]     /root/nltk_data...\n",
            "[nltk_data]   Package averaged_perceptron_tagger is already up-to-\n",
            "[nltk_data]       date!\n"
          ]
        }
      ],
      "source": [
        "!pip install tensorflow-addons\n",
        "import sys\n",
        "import nltk\n",
        "nltk.download('averaged_perceptron_tagger')\n",
        "sys.path.insert(1,utilsdir) # Path to the utils folder on your Google Drive disk\n",
        "sys.path.insert(1,evaluatordir) # Path to the evaluator folder on your Google Drive disk"
      ]
    },
    {
      "cell_type": "code",
      "execution_count": 14,
      "metadata": {
        "colab": {
          "base_uri": "https://localhost:8080/"
        },
        "id": "CuIdfFDlA9Q9",
        "outputId": "4ffee70d-1529-4c3d-cece-169a4c9b27c7"
      },
      "outputs": [
        {
          "output_type": "stream",
          "name": "stderr",
          "text": [
            "[nltk_data] Downloading package punkt to /root/nltk_data...\n",
            "[nltk_data]   Package punkt is already up-to-date!\n"
          ]
        }
      ],
      "source": [
        "\n",
        "from contextlib import redirect_stdout\n",
        "\n",
        "from tensorflow.keras import Input, utils\n",
        "from tensorflow.keras.models import Model\n",
        "from tensorflow.keras.layers import LSTM, GRU, Embedding, Dense, TimeDistributed, Dropout, Bidirectional, concatenate, Softmax\n",
        "from tensorflow_addons.text.crf_wrapper import CRFModelWrapper\n",
        "from codemaps import *\n",
        "\n",
        "import nltk\n",
        "nltk.download('punkt')\n",
        "\n",
        "utils.set_random_seed(812)\n"
      ]
    },
    {
      "cell_type": "code",
      "execution_count": 15,
      "metadata": {
        "id": "D7t-xqv7BMX8"
      },
      "outputs": [],
      "source": [
        "\n",
        "\n",
        "def build_network(codes) :\n",
        "\n",
        "   # sizes\n",
        "   n_words = codes.get_n_words()\n",
        "   n_sufs = codes.get_n_sufs()\n",
        "   n_prefs = codes.get_n_prefs()\n",
        "   n_labels = codes.get_n_labels()\n",
        "   n_lowers = codes.get_n_lowers()\n",
        "   n_pos = codes.get_n_lowers()\n",
        "   max_len = codes.maxlen\n",
        "\n",
        "\n",
        "   ######################################\n",
        "   inptW = Input(shape=(max_len,))\n",
        "   inptS = Input(shape=(max_len,))\n",
        "   inptP = Input(shape=(max_len,))\n",
        "   inptL = Input(shape=(max_len,))\n",
        "   inptPo = Input(shape=(max_len,))\n",
        "\n",
        "   model1 = Embedding(input_dim=n_words, output_dim=150,\n",
        "                      input_length=max_len, mask_zero=False)(inptW)  # word embeddings\n",
        "\n",
        "   model2 = Embedding(input_dim=n_sufs, output_dim=50,\n",
        "                      input_length=max_len, mask_zero=False)(inptS)  # suf embeddings\n",
        "\n",
        "   model3 = Embedding(input_dim=n_prefs, output_dim=50,\n",
        "                    input_length=max_len, mask_zero=False)(inptP) # pref embeddings\n",
        "\n",
        "   model4 = Embedding(input_dim=n_lowers, output_dim=150,\n",
        "                    input_length=max_len, mask_zero=False)(inptL) # lowers embeddings\n",
        "\n",
        "   model5 = Embedding(input_dim=n_pos, output_dim=150,\n",
        "                    input_length=max_len, mask_zero=False)(inptPo) # lowers embeddings\n",
        "\n",
        "   model1 = Dropout(0.1)(model1)\n",
        "   model2 = Dropout(0.1)(model2)\n",
        "   model3 = Dropout(0.1)(model3)\n",
        "   model4 = Dropout(0.1)(model4)\n",
        "   model5 = Dropout(0.1)(model5)\n",
        "\n",
        "   model = concatenate([model1,model2,model3,model4, model5])\n",
        "   y = Bidirectional(LSTM(units=200, return_sequences=True))(model)  #  biLSTM\n",
        "   out = TimeDistributed(Dense(n_labels, activation=Softmax()))(y)\n",
        "\n",
        "   return Model(\n",
        "        inputs=[inptW,inptS,inptP,inptL, inptPo], outputs=out\n",
        "    )\n"
      ]
    },
    {
      "cell_type": "code",
      "execution_count": 16,
      "metadata": {
        "id": "AGCB28e0pZHR"
      },
      "outputs": [],
      "source": [
        "# directory with files to process\n",
        "\n",
        "\n",
        "# load train and validation data\n",
        "traindata = Dataset(traindir)\n",
        "valdata = Dataset(validationdir)\n",
        "\n",
        "# create indexes from training data\n",
        "max_len = 150\n",
        "suf_len = 5\n",
        "pref_len = 3\n",
        "codes  = Codemaps(traindata, max_len, suf_len, pref_len)\n",
        "\n",
        "# encode datasets\n",
        "#[Xt,Xts,Xtp] = codes.encode_words(traindata)\n",
        "Xt = codes.encode_words(traindata)\n",
        "Yt = codes.encode_labels(traindata)\n",
        "#[Xv,Xvs,Xvp] = codes.encode_words(valdata)\n",
        "Xv = codes.encode_words(valdata)\n",
        "Yv = codes.encode_labels(valdata)\n",
        "\n",
        "n_tags = codes.get_n_labels()\n",
        "max_len = codes.maxlen"
      ]
    },
    {
      "cell_type": "code",
      "execution_count": 17,
      "metadata": {
        "id": "l6jXPIjLDTcm",
        "colab": {
          "base_uri": "https://localhost:8080/"
        },
        "outputId": "4881382b-ba26-4b82-b439-0be19369efeb"
      },
      "outputs": [
        {
          "output_type": "stream",
          "name": "stderr",
          "text": [
            "Model: \"model\"\n",
            "__________________________________________________________________________________________________\n",
            " Layer (type)                Output Shape                 Param #   Connected to                  \n",
            "==================================================================================================\n",
            " input_1 (InputLayer)        [(None, 150)]                0         []                            \n",
            "                                                                                                  \n",
            " input_2 (InputLayer)        [(None, 150)]                0         []                            \n",
            "                                                                                                  \n",
            " input_3 (InputLayer)        [(None, 150)]                0         []                            \n",
            "                                                                                                  \n",
            " input_4 (InputLayer)        [(None, 150)]                0         []                            \n",
            "                                                                                                  \n",
            " input_5 (InputLayer)        [(None, 150)]                0         []                            \n",
            "                                                                                                  \n",
            " embedding (Embedding)       (None, 150, 150)             1451400   ['input_1[0][0]']             \n",
            "                                                                                                  \n",
            " embedding_1 (Embedding)     (None, 150, 50)              247850    ['input_2[0][0]']             \n",
            "                                                                                                  \n",
            " embedding_2 (Embedding)     (None, 150, 50)              114450    ['input_3[0][0]']             \n",
            "                                                                                                  \n",
            " embedding_3 (Embedding)     (None, 150, 150)             1250850   ['input_4[0][0]']             \n",
            "                                                                                                  \n",
            " embedding_4 (Embedding)     (None, 150, 150)             1250850   ['input_5[0][0]']             \n",
            "                                                                                                  \n",
            " dropout (Dropout)           (None, 150, 150)             0         ['embedding[0][0]']           \n",
            "                                                                                                  \n",
            " dropout_1 (Dropout)         (None, 150, 50)              0         ['embedding_1[0][0]']         \n",
            "                                                                                                  \n",
            " dropout_2 (Dropout)         (None, 150, 50)              0         ['embedding_2[0][0]']         \n",
            "                                                                                                  \n",
            " dropout_3 (Dropout)         (None, 150, 150)             0         ['embedding_3[0][0]']         \n",
            "                                                                                                  \n",
            " dropout_4 (Dropout)         (None, 150, 150)             0         ['embedding_4[0][0]']         \n",
            "                                                                                                  \n",
            " concatenate (Concatenate)   (None, 150, 550)             0         ['dropout[0][0]',             \n",
            "                                                                     'dropout_1[0][0]',           \n",
            "                                                                     'dropout_2[0][0]',           \n",
            "                                                                     'dropout_3[0][0]',           \n",
            "                                                                     'dropout_4[0][0]']           \n",
            "                                                                                                  \n",
            " bidirectional (Bidirection  (None, 150, 400)             1201600   ['concatenate[0][0]']         \n",
            " al)                                                                                              \n",
            "                                                                                                  \n",
            " time_distributed (TimeDist  (None, 150, 10)              4010      ['bidirectional[0][0]']       \n",
            " ributed)                                                                                         \n",
            "                                                                                                  \n",
            "==================================================================================================\n",
            "Total params: 5521010 (21.06 MB)\n",
            "Trainable params: 5521010 (21.06 MB)\n",
            "Non-trainable params: 0 (0.00 Byte)\n",
            "__________________________________________________________________________________________________\n"
          ]
        }
      ],
      "source": [
        "model = build_network(codes)\n",
        "model.compile(optimizer='adam' ,metrics=[\"accuracy\"], loss=\"sparse_categorical_crossentropy\")\n",
        "model.build([(None,max_len),(None,max_len),(None,max_len)])\n",
        "\n",
        "with redirect_stdout(sys.stderr) :\n",
        "   model.summary()"
      ]
    },
    {
      "cell_type": "code",
      "execution_count": 18,
      "metadata": {
        "id": "KbLdNlnSBP9_",
        "colab": {
          "base_uri": "https://localhost:8080/"
        },
        "outputId": "6a58d7cf-58dc-42e7-c401-bbbbcb4ea4e2"
      },
      "outputs": [
        {
          "output_type": "stream",
          "name": "stderr",
          "text": [
            "Epoch 1/10\n",
            "170/170 [==============================] - 84s 417ms/step - loss: 0.1233 - accuracy: 0.9728 - val_loss: 0.0343 - val_accuracy: 0.9886\n",
            "Epoch 2/10\n",
            "170/170 [==============================] - 22s 128ms/step - loss: 0.0220 - accuracy: 0.9936 - val_loss: 0.0203 - val_accuracy: 0.9944\n",
            "Epoch 3/10\n",
            "170/170 [==============================] - 12s 73ms/step - loss: 0.0100 - accuracy: 0.9974 - val_loss: 0.0191 - val_accuracy: 0.9950\n",
            "Epoch 4/10\n",
            "170/170 [==============================] - 9s 52ms/step - loss: 0.0056 - accuracy: 0.9986 - val_loss: 0.0192 - val_accuracy: 0.9954\n",
            "Epoch 5/10\n",
            "170/170 [==============================] - 8s 43ms/step - loss: 0.0035 - accuracy: 0.9991 - val_loss: 0.0192 - val_accuracy: 0.9957\n",
            "Epoch 6/10\n",
            "170/170 [==============================] - 9s 55ms/step - loss: 0.0024 - accuracy: 0.9994 - val_loss: 0.0245 - val_accuracy: 0.9951\n",
            "Epoch 7/10\n",
            "170/170 [==============================] - 8s 49ms/step - loss: 0.0018 - accuracy: 0.9995 - val_loss: 0.0221 - val_accuracy: 0.9957\n",
            "Epoch 8/10\n",
            "170/170 [==============================] - 8s 47ms/step - loss: 0.0013 - accuracy: 0.9997 - val_loss: 0.0208 - val_accuracy: 0.9959\n",
            "Epoch 9/10\n",
            "170/170 [==============================] - 6s 37ms/step - loss: 9.5965e-04 - accuracy: 0.9998 - val_loss: 0.0234 - val_accuracy: 0.9956\n",
            "Epoch 10/10\n",
            "170/170 [==============================] - 8s 47ms/step - loss: 8.6140e-04 - accuracy: 0.9998 - val_loss: 0.0249 - val_accuracy: 0.9956\n"
          ]
        }
      ],
      "source": [
        "## --------- MAIN PROGRAM -----------\n",
        "## --\n",
        "## -- Usage:  train.py ../data/Train ../data/Devel  modelname\n",
        "## --\n",
        "\n",
        "# train model\n",
        "with redirect_stdout(sys.stderr) :\n",
        "   #model.fit([Xt,Xts,Xtp], Yt, batch_size=32, epochs=10, validation_data=([Xv,Xvs,Xvp],Yv), verbose=1)\n",
        "   model.fit(Xt, Yt, batch_size=32, epochs=10, validation_data=(Xv,Yv), verbose=1)\n",
        "\n",
        "# save model and indexs\n",
        "model.save(modelname)\n",
        "codes.save(modelname)\n",
        "#save_model_and_indexs(model, idx, modelname)"
      ]
    },
    {
      "cell_type": "markdown",
      "metadata": {
        "id": "aJvfrsbOID0K"
      },
      "source": [
        "# Predict"
      ]
    },
    {
      "cell_type": "code",
      "execution_count": 19,
      "metadata": {
        "id": "CTRj3WR4IGkU"
      },
      "outputs": [],
      "source": [
        "#import sys\n",
        "import evaluator"
      ]
    },
    {
      "cell_type": "code",
      "source": [
        "def output_entities(data, preds, outfile) :\n",
        "\n",
        "   outf = open(outfile, 'w')\n",
        "   for sid,tags in zip(data.sentence_ids(),preds) :\n",
        "      inside = False\n",
        "      for k in range(0,min(len(data.get_sentence(sid)),codes.maxlen)) :\n",
        "         y = tags[k]\n",
        "         token = data.get_sentence(sid)[k]\n",
        "\n",
        "         if (y[0]==\"B\") :\n",
        "             entity_form = token['form']\n",
        "             entity_start = token['start']\n",
        "             entity_end = token['end']\n",
        "             entity_type = y[2:]\n",
        "             inside = True\n",
        "         elif (y[0]==\"I\" and inside) :\n",
        "             entity_form += \" \"+token['form']\n",
        "             entity_end = token['end']\n",
        "         elif (y[0]==\"O\" and inside) :\n",
        "             print(sid, str(entity_start)+\"-\"+str(entity_end), entity_form, entity_type, sep=\"|\", file=outf)\n",
        "             inside = False\n",
        "\n",
        "      if inside : print(sid, str(entity_start)+\"-\"+str(entity_end), entity_form, entity_type, sep=\"|\", file=outf)\n",
        "\n",
        "   outf.close()"
      ],
      "metadata": {
        "id": "YcVCJho6z7x1"
      },
      "execution_count": 20,
      "outputs": []
    },
    {
      "cell_type": "code",
      "execution_count": 21,
      "metadata": {
        "id": "CnQTgWHLI47N"
      },
      "outputs": [],
      "source": [
        "## --------- Evaluator -----------\n",
        "def evaluation(datadir,outfile) :\n",
        "   evaluator.evaluate(\"NER\", datadir, outfile)\n"
      ]
    },
    {
      "cell_type": "code",
      "execution_count": 22,
      "metadata": {
        "id": "KJCvMcM-I7fi",
        "colab": {
          "base_uri": "https://localhost:8080/"
        },
        "outputId": "5e836915-fe67-466b-ad42-20bc9c9601e4"
      },
      "outputs": [
        {
          "output_type": "stream",
          "name": "stdout",
          "text": [
            "45/45 [==============================] - 2s 12ms/step\n",
            "                   tp\t  fp\t  fn\t#pred\t#exp\tP\tR\tF1\n",
            "------------------------------------------------------------------------------\n",
            "brand              79\t   3\t 195\t  82\t 274\t96.3%\t28.8%\t44.4%\n",
            "drug             1737\t 104\t 390\t1841\t2127\t94.4%\t81.7%\t87.6%\n",
            "drug_n              1\t   9\t  71\t  10\t  72\t10.0%\t1.4%\t2.4%\n",
            "group             563\t 133\t 130\t 696\t 693\t80.9%\t81.2%\t81.1%\n",
            "------------------------------------------------------------------------------\n",
            "M.avg            -\t-\t-\t-\t-\t70.4%\t48.3%\t53.9%\n",
            "------------------------------------------------------------------------------\n",
            "m.avg            2380\t 249\t 786\t2629\t3166\t90.5%\t75.2%\t82.1%\n",
            "m.avg(no class)  2459\t 170\t 707\t2629\t3166\t93.5%\t77.7%\t84.9%\n"
          ]
        }
      ],
      "source": [
        "## --------- MAIN PROGRAM -----------\n",
        "## --\n",
        "## -- Usage:  baseline-NER.py target-dir\n",
        "## --\n",
        "## -- Extracts Drug NE from all XML files in target-dir\n",
        "## --\n",
        "\n",
        "#datadir = validationdir\n",
        "datadir = testdir\n",
        "\n",
        "testdata = Dataset(datadir)\n",
        "[X,Xs,Xp,Xl,Xpo] = codes.encode_words(testdata)\n",
        "Y = model.predict([X,Xs,Xp,Xl,Xpo])\n",
        "Y = [[codes.idx2label(np.argmax(w)) for w in s] for s in Y]\n",
        "\n",
        "# extract entities\n",
        "output_entities(testdata, Y, outfile)\n",
        "\n",
        "# evaluate\n",
        "evaluation(datadir,outfile)\n"
      ]
    },
    {
      "cell_type": "code",
      "execution_count": 23,
      "metadata": {
        "id": "e6Zkcue1CNTn",
        "colab": {
          "base_uri": "https://localhost:8080/"
        },
        "outputId": "8162380e-ec75-4b3c-a42d-355088463659"
      },
      "outputs": [
        {
          "output_type": "stream",
          "name": "stdout",
          "text": [
            "45/45 [==============================] - 1s 11ms/step\n",
            "                   tp\t  fp\t  fn\t#pred\t#exp\tP\tR\tF1\n",
            "------------------------------------------------------------------------------\n",
            "brand              55\t   0\t 319\t  55\t 374\t100.0%\t14.7%\t25.6%\n",
            "drug             1572\t 122\t 334\t1694\t1906\t92.8%\t82.5%\t87.3%\n",
            "drug_n              6\t   1\t  39\t   7\t  45\t85.7%\t13.3%\t23.1%\n",
            "group             542\t  82\t 145\t 624\t 687\t86.9%\t78.9%\t82.7%\n",
            "------------------------------------------------------------------------------\n",
            "M.avg            -\t-\t-\t-\t-\t91.3%\t47.4%\t54.7%\n",
            "------------------------------------------------------------------------------\n",
            "m.avg            2175\t 205\t 837\t2380\t3012\t91.4%\t72.2%\t80.7%\n",
            "m.avg(no class)  2233\t 147\t 779\t2380\t3012\t93.8%\t74.1%\t82.8%\n"
          ]
        }
      ],
      "source": [
        "## --------- MAIN PROGRAM -----------\n",
        "## --\n",
        "## -- Usage:  baseline-NER.py target-dir\n",
        "## --\n",
        "## -- Extracts Drug NE from all XML files in target-dir\n",
        "## --\n",
        "\n",
        "datadir = validationdir\n",
        "#datadir = testdir\n",
        "\n",
        "testdata = Dataset(datadir)\n",
        "[X,Xs,Xp,Xl,Xpo] = codes.encode_words(testdata)\n",
        "Y = model.predict([X,Xs,Xp,Xl,Xpo])\n",
        "Y = [[codes.idx2label(np.argmax(w)) for w in s] for s in Y]\n",
        "\n",
        "# extract entities\n",
        "output_entities(testdata, Y, outfile)\n",
        "\n",
        "# evaluate\n",
        "evaluation(datadir,outfile)"
      ]
    }
  ],
  "metadata": {
    "accelerator": "GPU",
    "colab": {
      "provenance": [],
      "gpuType": "T4",
      "include_colab_link": true
    },
    "kernelspec": {
      "display_name": "Python 3",
      "name": "python3"
    },
    "language_info": {
      "name": "python"
    }
  },
  "nbformat": 4,
  "nbformat_minor": 0
}